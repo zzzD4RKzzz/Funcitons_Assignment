{
  "nbformat": 4,
  "nbformat_minor": 0,
  "metadata": {
    "colab": {
      "provenance": []
    },
    "kernelspec": {
      "name": "python3",
      "display_name": "Python 3"
    },
    "language_info": {
      "name": "python"
    }
  },
  "cells": [
    {
      "cell_type": "markdown",
      "source": [
        "# **Functions Assignment**"
      ],
      "metadata": {
        "id": "USvh8TWbA5Vn"
      }
    },
    {
      "cell_type": "markdown",
      "source": [
        "# Theoretical Questions"
      ],
      "metadata": {
        "id": "PG_q2tchBL4N"
      }
    },
    {
      "cell_type": "markdown",
      "source": [
        "1. Difference between a function and a method in Python\n",
        "* A function is a block of reusable code that operates independently.\n",
        "\n",
        "* A method is a function associated with an object and is called using the object."
      ],
      "metadata": {
        "id": "qobeDaavBRKW"
      }
    },
    {
      "cell_type": "markdown",
      "source": [
        "2. Explain the concept of function arguments and parameters in Python.\n",
        "* Parameters are variables listed in the function definition.\n",
        "\n",
        "* Arguments are the actual values passed when calling the function."
      ],
      "metadata": {
        "id": "nIIJFxyXDiPn"
      }
    },
    {
      "cell_type": "markdown",
      "source": [
        "3. What are the different ways to define and call a function in Python?\n",
        "* Using def: def func():\n",
        "* Using lambda: lambda x: x * 2\n",
        "* Calling the arguments: func(arg)"
      ],
      "metadata": {
        "id": "XIe4ObdbEUZ5"
      }
    },
    {
      "cell_type": "markdown",
      "source": [
        "4. What is the purpose of the return statement in a Python function?\n",
        "* The return statement sends back a result from a function.\n",
        "Example:\n",
        "def square(x):\n",
        "    return x * x\n",
        "print(square(5))\n",
        "The output will be 25"
      ],
      "metadata": {
        "id": "r0ccN6EbFDN2"
      }
    },
    {
      "cell_type": "markdown",
      "source": [
        "5. What are iterators in Python, and how do they differ from iterables?\n",
        "* Iterables like lists, tuples can be looped over.\n",
        "* Iterators have a next() method to get elements one by one."
      ],
      "metadata": {
        "id": "TQ5Jzt7VG2ae"
      }
    },
    {
      "cell_type": "markdown",
      "source": [
        "6. Explain the concept of generators in Python and how they are defined.\n",
        "* Generators use yield to produce values lazily, saving memory. Example: def xyz(): yield"
      ],
      "metadata": {
        "id": "IuA4_9DMHtik"
      }
    },
    {
      "cell_type": "markdown",
      "source": [
        "7. What are the advantages of using generators over regular functions?\n",
        "* Do not store all values at once.\n",
        "* Compute values only when needed."
      ],
      "metadata": {
        "id": "J765dAuRIMxg"
      }
    },
    {
      "cell_type": "markdown",
      "source": [
        "8. What is a lambda function in Python, and when is it typically used?\n",
        "* A lambda function is an anonymous, one-line function using lambda. For Example: square = lambda x: x * x when you write print(square(4)) the output will be 16\n",
        "* It is also used for short operations like sorting."
      ],
      "metadata": {
        "id": "kQVIOqAqIi7h"
      }
    },
    {
      "cell_type": "markdown",
      "source": [
        "9. Explain the purpose and usage of the map() function in Python.\n",
        "* map() applies a function to each element in an iterable. For Example: num = [1, 2 , 3] then after this when you write squared = list(map(lambda x: x**2, nums)) the output will be [1 , 4 , 9]"
      ],
      "metadata": {
        "id": "GNPpf8LVJq3Y"
      }
    },
    {
      "cell_type": "markdown",
      "source": [
        "10. What is the difference between map(), reduce(), and filter()?\n",
        "* map(): Applies a function to all items.\n",
        "* reduce(): Combines all elements into a single value.\n",
        "* filter(): Returns items that satisfy a condition."
      ],
      "metadata": {
        "id": "FFs78TeCKYe7"
      }
    },
    {
      "cell_type": "markdown",
      "source": [
        "11. Using pen & paper, write the internal mechanism for sum operation using reduce() on [47, 11, 42, 13].\n",
        "https://drive.google.com/file/d/1zmL2Vxka_74FMu2L9RGUFOdwOlvEBRqu/view?usp=drive_link"
      ],
      "metadata": {
        "id": "wGJ19l_IEZyY"
      }
    },
    {
      "cell_type": "markdown",
      "source": [
        "# Practical Questions"
      ],
      "metadata": {
        "id": "g9PiVT9s1ieL"
      }
    },
    {
      "cell_type": "code",
      "execution_count": null,
      "metadata": {
        "id": "ElTw9c1eAq3H",
        "colab": {
          "base_uri": "https://localhost:8080/"
        },
        "outputId": "dc197d0d-c9b2-4a9f-b0f0-addfa8c030b1"
      },
      "outputs": [
        {
          "output_type": "stream",
          "name": "stdout",
          "text": [
            "12\n"
          ]
        }
      ],
      "source": [
        "#1. Write a Python function to sum all even numbers in a list.\n",
        "l = [ 1 , 2 , 3 , 4 , 5 , 6]\n",
        "def sum_even_numbers(l):\n",
        "    return sum(num for num in l if num % 2 == 0)\n",
        "print(sum_even_numbers(l))"
      ]
    },
    {
      "cell_type": "code",
      "source": [
        "#2. Create a Python function that returns the reverse of a string.\n",
        "def reverse(string):\n",
        "    return string[::-1]\n",
        "print(reverse(\"Hello\"))"
      ],
      "metadata": {
        "colab": {
          "base_uri": "https://localhost:8080/"
        },
        "id": "AtTvHy2W38eF",
        "outputId": "6cd1035e-2c28-453b-cc69-36ee0ed78c8d"
      },
      "execution_count": null,
      "outputs": [
        {
          "output_type": "stream",
          "name": "stdout",
          "text": [
            "olleH\n"
          ]
        }
      ]
    },
    {
      "cell_type": "code",
      "source": [
        "#3. Write a function that returns the square of each number in a list.\n",
        "l = [ 1 , 2 , 3 , 4 , 5 , 6]\n",
        "def square(l):\n",
        "    return [num**2 for num in l]\n",
        "print(square(l))"
      ],
      "metadata": {
        "colab": {
          "base_uri": "https://localhost:8080/"
        },
        "id": "ISHlq0rO4QUK",
        "outputId": "6eb1d7db-f59b-45bc-95c2-2b62bbf2c12f"
      },
      "execution_count": null,
      "outputs": [
        {
          "output_type": "stream",
          "name": "stdout",
          "text": [
            "[1, 4, 9, 16, 25, 36]\n"
          ]
        }
      ]
    },
    {
      "cell_type": "code",
      "source": [
        "#4 Write a Python function to check if a number is prime (1–200).\n",
        "def is_prime(n):\n",
        "    if n < 2:\n",
        "        return False\n",
        "    for i in range(2, int(n ** 0.5) + 1):\n",
        "        if n % i == 0:\n",
        "            return False\n",
        "    return True\n",
        "for n in range(1, 201):\n",
        "    if is_prime(n):\n",
        "      print(n)"
      ],
      "metadata": {
        "colab": {
          "base_uri": "https://localhost:8080/"
        },
        "id": "TB2VHzNg4Z9d",
        "outputId": "a7b73265-e834-42c8-c76b-5a68eea2f5df"
      },
      "execution_count": null,
      "outputs": [
        {
          "output_type": "stream",
          "name": "stdout",
          "text": [
            "2\n",
            "3\n",
            "5\n",
            "7\n",
            "11\n",
            "13\n",
            "17\n",
            "19\n",
            "23\n",
            "29\n",
            "31\n",
            "37\n",
            "41\n",
            "43\n",
            "47\n",
            "53\n",
            "59\n",
            "61\n",
            "67\n",
            "71\n",
            "73\n",
            "79\n",
            "83\n",
            "89\n",
            "97\n",
            "101\n",
            "103\n",
            "107\n",
            "109\n",
            "113\n",
            "127\n",
            "131\n",
            "137\n",
            "139\n",
            "149\n",
            "151\n",
            "157\n",
            "163\n",
            "167\n",
            "173\n",
            "179\n",
            "181\n",
            "191\n",
            "193\n",
            "197\n",
            "199\n"
          ]
        }
      ]
    },
    {
      "cell_type": "code",
      "source": [
        "#5. Create an iterator class for the Fibonacci sequence.\n",
        "def fib(n):\n",
        "    a = 0\n",
        "    b = 1\n",
        "    for i in range(n):\n",
        "        yield a\n",
        "        a, b = b, a + b\n",
        "for num in fib(10):\n",
        "    print(num)"
      ],
      "metadata": {
        "colab": {
          "base_uri": "https://localhost:8080/"
        },
        "id": "UvwK7VQD6ALc",
        "outputId": "67f9affe-6f25-4c5d-b33e-8ee7bc56a998"
      },
      "execution_count": null,
      "outputs": [
        {
          "output_type": "stream",
          "name": "stdout",
          "text": [
            "0\n",
            "1\n",
            "1\n",
            "2\n",
            "3\n",
            "5\n",
            "8\n",
            "13\n",
            "21\n",
            "34\n"
          ]
        }
      ]
    },
    {
      "cell_type": "code",
      "source": [
        "#6. Write a generator that yields powers of 2 up to an exponent.\n",
        "def power_of_two(exp):\n",
        "    for i in range(exp + 1):\n",
        "        yield 2 ** i\n",
        "exp = 5\n",
        "for num in power_of_two(exp):\n",
        "    print(num)"
      ],
      "metadata": {
        "colab": {
          "base_uri": "https://localhost:8080/"
        },
        "id": "SmWnaLZm6bxB",
        "outputId": "9a00b784-42f2-4913-e441-a859ed0058f6"
      },
      "execution_count": null,
      "outputs": [
        {
          "output_type": "stream",
          "name": "stdout",
          "text": [
            "1\n",
            "2\n",
            "4\n",
            "8\n",
            "16\n",
            "32\n"
          ]
        }
      ]
    },
    {
      "cell_type": "code",
      "source": [
        "#7. Write a generator function that reads a file line by line.\n",
        "def read_lines(text):\n",
        "    for line in text.split(\"\\n\"):\n",
        "        yield line\n",
        "\n",
        "text = \"\"\"I like to eat mangos.\n",
        "Mangos are sweet and juicy.\n",
        "They are my favorite fruit.\"\"\"\n",
        "\n",
        "for line in read_lines(text):\n",
        "    print(line)\n"
      ],
      "metadata": {
        "colab": {
          "base_uri": "https://localhost:8080/"
        },
        "id": "RxmlCHGiAXHc",
        "outputId": "fc4b41f2-2cc9-4d2a-f89d-e792b20a7ff2"
      },
      "execution_count": null,
      "outputs": [
        {
          "output_type": "stream",
          "name": "stdout",
          "text": [
            "I like to eat mangos.\n",
            "Mangos are sweet and juicy.\n",
            "They are my favorite fruit.\n"
          ]
        }
      ]
    },
    {
      "cell_type": "code",
      "source": [
        "#8. Sort a list of tuples using a lambda function.\n",
        "t = [(1, 3), (2, 2), (4, 1)]\n",
        "sorted_list = sorted(t, key=lambda x: x[1])\n",
        "print(sorted_list)"
      ],
      "metadata": {
        "colab": {
          "base_uri": "https://localhost:8080/"
        },
        "id": "MFl0OGni7jnt",
        "outputId": "9f0b466a-b7e8-4598-9180-024ec5712804"
      },
      "execution_count": null,
      "outputs": [
        {
          "output_type": "stream",
          "name": "stdout",
          "text": [
            "[(4, 1), (2, 2), (1, 3)]\n"
          ]
        }
      ]
    },
    {
      "cell_type": "code",
      "source": [
        "#9. Convert a list of Celsius temperatures to Fahrenheit using map().\n",
        "celsius = [0, 10, 20, 30, 40]\n",
        "fahrenheit = list(map(lambda x: (x * 9/5) + 32, celsius))\n",
        "print(fahrenheit)"
      ],
      "metadata": {
        "colab": {
          "base_uri": "https://localhost:8080/"
        },
        "id": "fbTKbRC_72VA",
        "outputId": "4c8f190d-ea68-4716-d512-095dc2b49592"
      },
      "execution_count": null,
      "outputs": [
        {
          "output_type": "stream",
          "name": "stdout",
          "text": [
            "[32.0, 50.0, 68.0, 86.0, 104.0]\n"
          ]
        }
      ]
    },
    {
      "cell_type": "code",
      "source": [
        "#10. Remove vowels from a string using filter().\n",
        "def remove_vowels(string):\n",
        "    vowels = ['a', 'e', 'i', 'o', 'u']\n",
        "    result = list(filter(lambda x: x.lower() not in vowels, string))\n",
        "    return result\n",
        "print(remove_vowels(\"Hello\"))"
      ],
      "metadata": {
        "colab": {
          "base_uri": "https://localhost:8080/"
        },
        "id": "NjLhhdUi7_Dv",
        "outputId": "91fc4648-cac2-4611-c92d-cffd2944d9d8"
      },
      "execution_count": null,
      "outputs": [
        {
          "output_type": "stream",
          "name": "stdout",
          "text": [
            "['H', 'l', 'l']\n"
          ]
        }
      ]
    },
    {
      "cell_type": "code",
      "source": [
        "#11. Imagine an accounting routine used in a bookshop. It works on a list with sublists, which look like this:\n",
        "    #[34587, \"Learning Python, Mark Lutz\", 4, 40.95],\n",
        "    #[98762, \"Programming Python, Mark Lutz\", 5, 56.80],\n",
        "    #[77226, \"Head First Python, Paul Barry\", 3, 32.95],\n",
        "    #[88112, \"Einführung in Python3, Bernd Klein\", 3, 24.99]\n",
        "    # Write a Python program that returns a list with 2-tuples. Each tuple consists of the order number and the total cost (quantity × price per item). If the total cost is less than 100, add a surcharge of 10 to the total.\n",
        "    #Solve this using lambda and map().\n",
        "orders = [[34587, \"Learning Python, Mark Lutz\", 4, 40.95],[98762, \"Programming Python, Mark Lutz\", 5, 56.80],[77226, \"Head First Python, Paul Barry\", 3, 32.95],[88112, \"Einführung in Python3, Bernd Klein\", 3, 24.99]]\n",
        "result = list(map(lambda x: (x[0], x[2] * x[3]) if x[2] * x[3] >= 100 else (x[0], x[2] * x[3] + 10), orders))\n",
        "print(result)"
      ],
      "metadata": {
        "colab": {
          "base_uri": "https://localhost:8080/"
        },
        "id": "_9eBe3Cf9wq0",
        "outputId": "fced666e-9c77-4cc6-c314-95ae88240250"
      },
      "execution_count": null,
      "outputs": [
        {
          "output_type": "stream",
          "name": "stdout",
          "text": [
            "[(34587, 163.8), (98762, 284.0), (77226, 108.85000000000001), (88112, 84.97)]\n"
          ]
        }
      ]
    }
  ]
}